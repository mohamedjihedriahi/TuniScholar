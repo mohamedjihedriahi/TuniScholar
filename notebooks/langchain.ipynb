{
 "cells": [
  {
   "cell_type": "code",
   "execution_count": null,
   "metadata": {},
   "outputs": [],
   "source": [
    "import os\n",
    "from openai import OpenAI\n",
    "\n",
    "token = os.environ[\"GITHUB_TOKEN\"]\n",
    "print(token)\n",
    "print(os.environ[\"OPENAI_API_KEY\"])\n",
    "endpoint = \"https://models.inference.ai.azure.com\"\n",
    "model_name = \"gpt-4o\"\n",
    "\n",
    "client = OpenAI(\n",
    "    base_url=endpoint,\n",
    "    api_key=token,\n",
    ")\n",
    "\n",
    "response = client.chat.completions.create(\n",
    "    messages=[\n",
    "        {\n",
    "            \"role\": \"system\",\n",
    "            \"content\": \"You are a helpful assistant.\",\n",
    "        },\n",
    "        {\n",
    "            \"role\": \"user\",\n",
    "            \"content\": \"What is the capital of England?\",\n",
    "        }\n",
    "    ],\n",
    "    temperature=0,\n",
    "    top_p=1.0,\n",
    "    max_tokens=1000,\n",
    "    model=model_name\n",
    ")\n"
   ]
  },
  {
   "cell_type": "code",
   "execution_count": 1,
   "metadata": {},
   "outputs": [],
   "source": [
    "\n",
    "from langchain_openai import OpenAI\n",
    "from langchain_openai import OpenAIEmbeddings\n",
    "from langchain.vectorstores import DocArrayInMemorySearch\n",
    "from langchain.indexes import VectorstoreIndexCreator\n",
    "from IPython.display import display, Markdown\n",
    "\n"
   ]
  },
  {
   "cell_type": "code",
   "execution_count": 155,
   "metadata": {},
   "outputs": [],
   "source": [
    "llm = OpenAI(model=model_name,temperature=0)"
   ]
  },
  {
   "cell_type": "code",
   "execution_count": 43,
   "metadata": {},
   "outputs": [],
   "source": [
    "## get the json data into a langchain dataloader\n",
    "from langchain.document_loaders import JSONLoader\n",
    "import json\n",
    "\n",
    "with open(\"../authors_with_h_index.json\",encoding=\"utf-8\") as f:\n",
    "    authors = json.load(f)\n",
    "\n",
    "## get only 1000 authors\n",
    "authors = authors[:100]\n",
    "\n",
    "## save the restricted list of authors to anothe json\n",
    "with open(\"authors_with_h_index_restricted.json\", \"w\",encoding=\"utf-8\") as f:\n",
    "    json.dump(authors, f)\n",
    "\n",
    "## load it back \n",
    "with open(\"authors_with_h_index_restricted.json\",encoding=\"utf-8\") as f:\n",
    "    authors = json.load(f)\n",
    "    ## stringfy the authors\n",
    "    authors_string = json.dumps(authors)\n",
    "\n",
    "\n",
    "\n",
    "jq_schema = \".\"\n",
    "json_loader = JSONLoader(\"authors_with_h_index_restricted.json\", jq_schema=jq_schema, text_content=False)\n"
   ]
  },
  {
   "cell_type": "code",
   "execution_count": 44,
   "metadata": {},
   "outputs": [
    {
     "name": "stdout",
     "output_type": "stream",
     "text": [
      "[{\"profile_name\": \"Adel Trabelsi\", \"profile_link\": \"https://scholar.google.com/citations?hl=zh-TW&user=atpUzjMAAAAJ\", \"profile_affiliations\": \"University Tunis-El Manar, Tunis, Tunisia\", \"profile_email\": \" cern.ch \", \"profile_city_by_count\": \" 25786 \", \"profile_interests\": [\"Physics\", \"Nuclear\", \"High Energy Physics\"], \"hindex\": 86, \"hindex5y\": 28, \"i10index\": 201, \"i10index5y\": 74}, {\"profile_name\": \"Chedly Abdelly\", \"profile_link\": \"https://scholar.google.com/citations?hl=zh-TW&user=_62kqDAAAAAJ\", \"profile_affiliations\": \"Center of Biotechnology of Borj-Cedria, CBBC\", \"profile_email\": \" cbbc.rnrt.tn \", \"profile_city_by_count\": \" 21135 \", \"profile_interests\": [\"Ecophysiology\", \"Halophytes\", \"Abiotic constraints\", \"Bioactive substances\"], \"hindex\": 72, \"hindex5y\": 56, \"i10index\": 336, \"i10index5y\": 282}, {\"profile_name\": \"Moncef nasri\", \"profile_link\": \"https://scholar.google.com/citations?hl=zh-TW&user=1g45JHwAAAAJ\", \"profile_affiliations\": \"Professor, LGEM Laboratory, ENIS, University of Sfax\", \"profile_email\": \" enis.rnu.tn \", \"profile_city_by_count\": \" 19753 \", \"profile_interests\": [\"Biopeptides\", \"Proteases\", \"Lipopeptides\"], \"hindex\": 72, \"hindex5y\": 57, \"i10index\": 356, \"i10index5y\": 316}, {\"profile_name\": \"Habiba Ben Romdhane\", \"profile_link\": \"https://scholar.google.com/citations?hl=zh-TW&user=0oGkmjcAAAAJ\", \"profile_affiliations\": \"Faculty of Medicine, University Tunis El Manar\", \"profile_email\": \" fmt.utm.tn \", \"profile_city_by_count\": \" 18663 \", \"profile_interests\": [\"Epidemiolgy\", \"Health Policy\", \"Women's Health\"], \"hindex\": 32, \"hindex5y\": 27, \"i10index\": 60, \"i10index5y\": 50}, {\"profile_name\": \"Hentati Fayal\", \"profile_link\": \"https://scholar.google.com/citations?hl=zh-TW&user=guPPOFoAAAAJ\", \"profile_affiliations\": \"MD\", \"profile_email\": \" rns.tn \", \"profile_city_by_count\": \" 15785 \", \"profile_interests\": [\"neurology\", \"neurogenetics\"], \"hindex\": 58, \"hindex5y\": 33, \"i10index\": 154, \"i10index5y\": 75}, {\"profile_name\": \"HAMADI ATTIA\", \"profile_link\": \"https://scholar.google.com/citations?hl=zh-TW&user=zSEveqgAAAAJ\", \"profile_affiliations\": \"Sfax University - Tunisia\", \"profile_email\": \" enis.tn \", \"profile_city_by_count\": \" 13547 \", \"profile_interests\": [\"Food science and technology\"], \"hindex\": 61, \"hindex5y\": 50, \"i10index\": 181, \"i10index5y\": 155}, {\"profile_name\": \"Adel M. Alimi\", \"profile_link\": \"https://scholar.google.com/citations?hl=zh-TW&user=0F4bcd0AAAAJ\", \"profile_affiliations\": \"REGIM Lab, ENIS, University o Sfax, Tunisia\", \"profile_email\": \" enis.tn \", \"profile_city_by_count\": \" 13513 \", \"profile_interests\": [\"intelligent machines\", \"intelligent systems\", \"computational intelligence\", \"machine learning\", \"handwriting analysis and recognition\"], \"hindex\": 49, \"hindex5y\": 33, \"i10index\": 376, \"i10index5y\": 205}, {\"profile_name\": \"sami boufi\", \"profile_link\": \"https://scholar.google.com/citations?hl=zh-TW&user=XjQ3nFwAAAAJ\", \"profile_affiliations\": \"Professor of material chemistry\", \"profile_email\": \" fss.rnu.tn \", \"profile_city_by_count\": \" 12152 \", \"profile_interests\": [\"nanocelluloses\", \"cellulose nanofibrils\", \"nanocomposite\", \"composites\"], \"hindex\": 60, \"hindex5y\": 49, \"i10index\": 162, \"i10index5y\": 147}, {\"profile_name\": \"Amira Zarrouk\", \"profile_link\": \"https://scholar.google.com/citations?hl=zh-TW&user=FAqBMboAAAAJ\", \"profile_affiliations\": \"University of Sousse. Department of Biochemistry.\", \"profile_email\": \" mssm.edu \", \"profile_city_by_count\": \" 11125 \", \"profile_interests\": [], \"hindex\": 27, \"hindex5y\": 27, \"i10index\": 51, \"i10index5y\": 50}, {\"profile_name\": \"Fekri Abroug\", \"profile_link\": \"https://scholar.google.com/citations?hl=zh-TW&user=H8mrCSMAAAAJ\", \"profile_affiliations\": \"CHU F.Bourguiba Monastir\", \"profile_email\": \" rns.tn \", \"profile_city_by_count\": \" 10994 \", \"profile_interests\": [\"Intensive Care Medicine\"], \"hindex\": 49, \"hindex5y\": 33, \"i10index\": 93, \"i10index5y\": 71}, {\"profile_name\": \"Mongi Ben Hamida\", \"profile_link\": \"https://scholar.google.com/citations?hl=zh-TW&user=6KPNqo8AAAAJ\", \"profile_affiliations\": \"#TunSci: University of Tunis El Manar, Tunisia\", \"profile_email\": \"\", \"profile_city_by_count\": \" 9953 \", \"profile_interests\": [\"Neurology\", \"Neuroscience\", \"Neurogenetics\"], \"hindex\": 40, \"hindex5y\": 16, \"i10index\": 77, \"i10index5y\": 24}, {\"profile_name\": \"sassi ben nasrallah\", \"profile_link\": \"https://scholar.google.com/citations?hl=zh-TW&user=DSKGWK8AAAAJ\", \"profile_affiliations\": \"Engineering School of Monastir\", \"profile_email\": \" enim.rnu.tn \", \"profile_city_by_count\": \" 9841 \", \"profile_interests\": [\"Energy\", \"Fluid Mechanics\", \"Heat and Mass Transfer\", \"Modelling\"], \"hindex\": 51, \"hindex5y\": 38, \"i10index\": 187, \"i10index5y\": 122}, {\"profile_name\": \"Souhail BESBES\", \"profile_link\": \"https://scholar.google.com/citations?hl=zh-TW&user=2Pg0tV0AAAAJ\", \"profile_affiliations\": \"UNIVERSITY OF SFAX TUNISIA\", \"profile_email\": \" isbs.usf.tn \", \"profile_city_by_count\": \" 9631 \", \"profile_interests\": [\"food science and technology\"], \"hindex\": 47, \"hindex5y\": 38, \"i10index\": 111, \"i10index5y\": 87}, {\"profile_name\": \"Hamdi CHTOUROU\", \"profile_link\": \"https://scholar.google.com/citations?hl=zh-TW&user=PauzFikAAAAJ\", \"profile_affiliations\": \"University of Sfax\", \"profile_email\": \" isseps.usf.tn \", \"profile_city_by_count\": \" 9619 \", \"profile_interests\": [\"Sleep\", \"Health\", \"Performance\", \"Fasting\", \"Training\"], \"hindex\": 51, \"hindex5y\": 42, \"i10index\": 150, \"i10index5y\": 141}, {\"profile_name\": \"Fod Karifa Kant\", \"profile_link\": \"https://scholar.google.com/citations?hl=zh-TW&user=SroCLLoAAAAJ\", \"profile_affiliations\": \"chercheur, FSJEGJ (facult des sciences juridiques,conomiques et gestions de Jendouba)\", \"profile_email\": \"\", \"profile_city_by_count\": \" 9201 \", \"profile_interests\": [\"technologie\", \"e-learning\", \"conomie\", \"programmation\", \"informatique\"], \"hindex\": 46, \"hindex5y\": 29, \"i10index\": 92, \"i10index5y\": 62}, {\"profile_name\": \"Iskander Tlili\", \"profile_link\": \"https://scholar.google.com/citations?hl=zh-TW&user=fkXlgY0AAAAJ\", \"profile_affiliations\": \"National Engineering School of Monastir, Tunisia\", \"profile_email\": \" enim.rnu.tn \", \"profile_city_by_count\": \" 9089 \", \"profile_interests\": [\"Thermal power\", \"Renewable and sustainable energy\", \"water desalination\"], \"hindex\": 51, \"hindex5y\": 49, \"i10index\": 226, \"i10index5y\": 225}, {\"profile_name\": \"Nizar Souissi\", \"profile_link\": \"https://scholar.google.com/citations?hl=zh-TW&user=j3pXfNoAAAAJ\", \"profile_affiliations\": \"Professeur, ISSEP Ksar Said, Universit La Mannouba, Tunisie, Observatoire National du\", \"profile_email\": \"\", \"profile_city_by_count\": \" 9068 \", \"profile_interests\": [\"Chronobiologie\", \"Physiologie\", \"Exercice musculaire\"], \"hindex\": 50, \"hindex5y\": 41, \"i10index\": 123, \"i10index5y\": 112}, {\"profile_name\": \"Hassen Aydi\", \"profile_link\": \"https://scholar.google.com/citations?hl=zh-TW&user=LSq6jg4AAAAJ\", \"profile_affiliations\": \"Universit De Sousse\", \"profile_email\": \" isima.rnu.tn \", \"profile_city_by_count\": \" 8804 \", \"profile_interests\": [\"Mathematics - Associate Professor\"], \"hindex\": 49, \"hindex5y\": 40, \"i10index\": 175, \"i10index5y\": 150}, {\"profile_name\": \"Ksibi Mohamed\", \"profile_link\": \"https://scholar.google.com/citations?hl=zh-TW&user=l2XZEDAAAAAJ\", \"profile_affiliations\": \"University of Sfax\", \"profile_email\": \" isbs.rnu.tn \", \"profile_city_by_count\": \" 8541 \", \"profile_interests\": [\"Environmental chemistry\"], \"hindex\": 27, \"hindex5y\": 25, \"i10index\": 54, \"i10index5y\": 47}, {\"profile_name\": \"Ammar Houas\", \"profile_link\": \"https://scholar.google.com/citations?hl=zh-TW&user=kzPGuogAAAAJ\", \"profile_affiliations\": \"LRCMEP/ Facult des Sciences de Gabes /university of Gabes\", \"profile_email\": \" fsg.rnu.tn \", \"profile_city_by_count\": \" 7990 \", \"profile_interests\": [], \"hindex\": 32, \"hindex5y\": 26, \"i10index\": 71, \"i10index5y\": 62}, {\"profile_name\": \"Elaloui Elimame\", \"profile_link\": \"https://scholar.google.com/citations?hl=zh-TW&user=gRTTlrUAAAAJ\", \"profile_affiliations\": \"Chemistry Professor, Universit de Gafsa\", \"profile_email\": \" fsgf.u-gafsa.tn \", \"profile_city_by_count\": \" 7609 \", \"profile_interests\": [\"chemistry\"], \"hindex\": 29, \"hindex5y\": 23, \"i10index\": 67, \"i10index5y\": 54}, {\"profile_name\": \"Youssef Talel Gargouri\", \"profile_link\": \"https://scholar.google.com/citations?hl=zh-TW&user=2QlvdQEAAAAJ\", \"profile_affiliations\": \"Professeur ENIS-Sfax TuNISIE\", \"profile_email\": \" enis.tn \", \"profile_city_by_count\": \" 7516 \", \"profile_interests\": [\"Biochimie-Enzymologie-Biotechnologie\"], \"hindex\": 49, \"hindex5y\": 25, \"i10index\": 141, \"i10index5y\": 79}, {\"profile_name\": \"kamel ghedira\", \"profile_link\": \"https://scholar.google.com/citations?hl=zh-TW&user=U4rpB5AAAAAJ\", \"profile_affiliations\": \"faculte de pharmacie de Monastir\", \"profile_email\": \"\", \"profile_city_by_count\": \" 7432 \", \"profile_interests\": [\"pharmacognosie phytochimie phytothrapie\"], \"hindex\": 45, \"hindex5y\": 32, \"i10index\": 159, \"i10index5y\": 115}, {\"profile_name\": \"manef abderrabba\", \"profile_link\": \"https://scholar.google.com/citations?hl=zh-TW&user=dk0l7EEAAAAJ\", \"profile_affiliations\": \"Professeur de chimie IPEST Universit de Carthage\", \"profile_email\": \" ipest.rnu.tn \", \"profile_city_by_count\": \" 7394 \", \"profile_interests\": [\"chimie thorique\", \"matriaux\", \"substances naturelles\"], \"hindex\": 41, \"hindex5y\": 33, \"i10index\": 138, \"i10index5y\": 119}, {\"profile_name\": \"Essebti Dhahri\", \"profile_link\": \"https://scholar.google.com/citations?hl=zh-TW&user=mDPUBfsAAAAJ\", \"profile_affiliations\": \"professor of physics,University of Sfax\", \"profile_email\": \" fss.rnu.tn \", \"profile_city_by_count\": \" 6831 \", \"profile_interests\": [\"Magntisme\", \"dilectrique\", \"matriaux multifonctionnels\", \"nergie\", \"environnement\"], \"hindex\": 42, \"hindex5y\": 32, \"i10index\": 203, \"i10index5y\": 159}, {\"profile_name\": \"Essebti Dhahri\", \"profile_link\": \"https://scholar.google.com/citations?hl=zh-TW&user=PClyVw4AAAAJ\", \"profile_affiliations\": \"professor of physics,University of Sfax\", \"profile_email\": \" fss.rnu.tn \", \"profile_city_by_count\": \" 6773 \", \"profile_interests\": [\"Magntisme\", \"dilectrique\", \"matriaux multifonctionnels\", \"nergie\", \"environnement\"], \"hindex\": 42, \"hindex5y\": 32, \"i10index\": 203, \"i10index5y\": 159}, {\"profile_name\": \"Ahmed Rebai\", \"profile_link\": \"https://scholar.google.com/citations?hl=zh-TW&user=MxJE-7IAAAAJ\", \"profile_affiliations\": \"Professor of Bioinformatics/Biostatistics, Centre of Biotechnology of Sfax, University of Sfax\", \"profile_email\": \" cbs.rnrt.tn \", \"profile_city_by_count\": \" 6532 \", \"profile_interests\": [\"Computational Biology\"], \"hindex\": 45, \"hindex5y\": 28, \"i10index\": 156, \"i10index5y\": 96}, {\"profile_name\": \"Farhat Fnaiech\", \"profile_link\": \"https://scholar.google.com/citations?hl=zh-TW&user=3Lz-u1EAAAAJ\", \"profile_affiliations\": \"Professor of Electrical Engineering, University of Tunis\", \"profile_email\": \" ieee.org \", \"profile_city_by_count\": \" 6352 \", \"profile_interests\": [\"Control systems\", \"Signal processing\", \"Nonlinear control\", \"Computational intelligence\", \"Electrical drives\"], \"hindex\": 33, \"hindex5y\": 23, \"i10index\": 133, \"i10index5y\": 63}, {\"profile_name\": \"Mohamed Amri\", \"profile_link\": \"https://scholar.google.com/citations?hl=zh-TW&user=j-GLqlIAAAAJ\", \"profile_affiliations\": \"Facult des Sciences de Tunis\", \"profile_email\": \" fst.rnu.tn \", \"profile_city_by_count\": \" 6156 \", \"profile_interests\": [\"- Ethnopharmacologie STAPS - Nutrition\"], \"hindex\": 43, \"hindex5y\": 28, \"i10index\": 109, \"i10index5y\": 91}, {\"profile_name\": \"Mustapha Ait Rami\", \"profile_link\": \"https://scholar.google.com/citations?hl=zh-TW&user=fxUdMwcAAAAJ\", \"profile_affiliations\": \"ENSIT, Tangier.\", \"profile_email\": \" ensi.ma \", \"profile_city_by_count\": \" 6053 \", \"profile_interests\": [\"systems engineering\", \"systems & control\"], \"hindex\": 28, \"hindex5y\": 23, \"i10index\": 46, \"i10index5y\": 32}, {\"profile_name\": \"MOHAMED ABID\", \"profile_link\": \"https://scholar.google.com/citations?hl=zh-TW&user=lLPfbg4AAAAJ\", \"profile_affiliations\": \"CES Laboratory, National School of Engineers of Sfax, University of Sfax, Sfax, Tunisia\", \"profile_email\": \" enis.tn \", \"profile_city_by_count\": \" 5901 \", \"profile_interests\": [\"Co-Design\", \"embedded systems\", \"Real time System\", \"IoT\", \"WSN\"], \"hindex\": 51, \"hindex5y\": 51, \"i10index\": 132, \"i10index5y\": 131}, {\"profile_name\": \"mohamed bejaoui\", \"profile_link\": \"https://scholar.google.com/citations?hl=zh-TW&user=X2jnwlAAAAAJ\", \"profile_affiliations\": \"Medical doctor\", \"profile_email\": \" rns.tn \", \"profile_city_by_count\": \" 5854 \", \"profile_interests\": [\"Medecine\"], \"hindex\": 34, \"hindex5y\": 25, \"i10index\": 98, \"i10index5y\": 64}, {\"profile_name\": \"Lassaad EL MIR\", \"profile_link\": \"https://scholar.google.com/citations?hl=zh-TW&user=kxgdiXoAAAAJ\", \"profile_affiliations\": \"Faculty of Sciences in Gabes, Gabes University.\", \"profile_email\": \" fsg.rnu.tn \", \"profile_city_by_count\": \" 5796 \", \"profile_interests\": [\"Nanotechnology\"], \"hindex\": 44, \"hindex5y\": 35, \"i10index\": 138, \"i10index5y\": 119}, {\"profile_name\": \"Chekir Leila\", \"profile_link\": \"https://scholar.google.com/citations?hl=zh-TW&user=Y4007nkAAAAJ\", \"profile_affiliations\": \"facult de mdecine dentaire de monastir\", \"profile_email\": \" fmdm.rnu.tn \", \"profile_city_by_count\": \" 5658 \", \"profile_interests\": [\"toxicologie\", \"biologie molculaire\", \"environnement\", \"cancer\", \"biologie cellulaire\"], \"hindex\": 40, \"hindex5y\": 29, \"i10index\": 125, \"i10index5y\": 96}, {\"profile_name\": \"Ameur Cherif\", \"profile_link\": \"https://scholar.google.com/citations?hl=zh-TW&user=n7k-1JOZ6xYC\", \"profile_affiliations\": \"Professor of Microbiology, University of Manouba, Tunisia\", \"profile_email\": \" uma.tn \", \"profile_city_by_count\": \" 5550 \", \"profile_interests\": [\"Microbial resource management\"], \"hindex\": 37, \"hindex5y\": 30, \"i10index\": 81, \"i10index5y\": 73}, {\"profile_name\": \"Faiez GARGOURI\", \"profile_link\": \"https://scholar.google.com/citations?hl=zh-TW&user=w41C1-MAAAAJ\", \"profile_affiliations\": \"University of Sfax\", \"profile_email\": \" isims.usf.tn \", \"profile_city_by_count\": \" 5461 \", \"profile_interests\": [\"Information systems\", \"Ontologies\", \"Data Warehouse\", \"Knowledge management\"], \"hindex\": 26, \"hindex5y\": 22, \"i10index\": 108, \"i10index5y\": 77}, {\"profile_name\": \"Kamel Chaieb\", \"profile_link\": \"https://scholar.google.com/citations?hl=zh-TW&user=oGybV5EAAAAJ\", \"profile_affiliations\": \"Faculty of Sciences, King Abdul Aziz University, ISBB, Jendouba University\", \"profile_email\": \" kau.edu.sa \", \"profile_city_by_count\": \" 5415 \", \"profile_interests\": [\"Molecular Microbiology\"], \"hindex\": 33, \"hindex5y\": 27, \"i10index\": 61, \"i10index5y\": 46}, {\"profile_name\": \"Tarek Mabrouki\", \"profile_link\": \"https://scholar.google.com/citations?hl=zh-TW&user=BKZwXZgAAAAJ\", \"profile_affiliations\": \"Professor of Mechanical Engineering at ENIT / University of Tunis El MANAR, Tunisia\", \"profile_email\": \" enit.utm.tn \", \"profile_city_by_count\": \" 5263 \", \"profile_interests\": [\"Mechanical Engineering\", \"Machining\", \"Manufacturing\", \"Modelling and  Simulation\", \"Forming Processes\"], \"hindex\": 37, \"hindex5y\": 32, \"i10index\": 72, \"i10index5y\": 63}, {\"profile_name\": \"Habib Youssef\", \"profile_link\": \"https://scholar.google.com/citations?hl=zh-TW&user=Q27rTOIAAAAJ\", \"profile_affiliations\": \"Professor of Computer Science, University of Sousse, Tunisia\", \"profile_email\": \" fsm.rnu.tn \", \"profile_city_by_count\": \" 5243 \", \"profile_interests\": [\"Computer Networks\", \"Cycber physical systems\", \"Performance analysis\", \"Combinatorial optimization\"], \"hindex\": 28, \"hindex5y\": 20, \"i10index\": 86, \"i10index5y\": 46}, {\"profile_name\": \"Ferid Limam\", \"profile_link\": \"https://scholar.google.com/citations?hl=zh-TW&user=VVkWkKoAAAAJ\", \"profile_affiliations\": \"Biotechnology Center of Borj Cedria\", \"profile_email\": \"\", \"profile_city_by_count\": \" 5200 \", \"profile_interests\": [], \"hindex\": 39, \"hindex5y\": 27, \"i10index\": 77, \"i10index5y\": 55}, {\"profile_name\": \"SAAD ALI\", \"profile_link\": \"https://scholar.google.com/citations?hl=zh-TW&user=5_2mljQAAAAJ\", \"profile_affiliations\": \"PROFESSEUR D'HISTOLOGIE-EMBRYOLOGIE ET DE GENETIQUE\", \"profile_email\": \" rns.tn \", \"profile_city_by_count\": \" 5160 \", \"profile_interests\": [\"GENETIQUE ET BIOLOGIE DE LA\"], \"hindex\": 22, \"hindex5y\": 17, \"i10index\": 28, \"i10index5y\": 20}, {\"profile_name\": \"Pr. Wassim Moalla\", \"profile_link\": \"https://scholar.google.com/citations?hl=zh-TW&user=ba80LzQAAAAJ\", \"profile_affiliations\": \"Universit de Sfax, Tunisie Institut Suprieur de Sport et de l'Education Physique de Sfax\", \"profile_email\": \" isseps.usf.tn \", \"profile_city_by_count\": \" 5125 \", \"profile_interests\": [\"Sciences du Sport\", \"Optimisation de la performance\", \"Football\", \"Rehabilitation\"], \"hindex\": 32, \"hindex5y\": 28, \"i10index\": 57, \"i10index5y\": 56}, {\"profile_name\": \"Habib Gamra\", \"profile_link\": \"https://scholar.google.com/citations?hl=zh-TW&user=YLcPq-cAAAAJ\", \"profile_affiliations\": \"of cardiology department -Fattouma Bourguiba University Hospital - 5000 Monastir , Tunisia\", \"profile_email\": \" rns.tn \", \"profile_city_by_count\": \" 5122 \", \"profile_interests\": [\"cardiology\"], \"hindex\": 31, \"hindex5y\": 19, \"i10index\": 57, \"i10index5y\": 33}, {\"profile_name\": \"Mosbah Amlouk\", \"profile_link\": \"https://scholar.google.com/citations?hl=zh-TW&user=0gb6YAYAAAAJ\", \"profile_affiliations\": \"Professor Dr Laboratoire de Nanomatriaux, Nanotechnologie et Energie (L2NE), Facult\", \"profile_email\": \" fsb.rnu.tn \", \"profile_city_by_count\": \" 4981 \", \"profile_interests\": [\"Physics\", \"Thin Film Solar Cells\", \"Materials & NanoScience Engineering\"], \"hindex\": 40, \"hindex5y\": 31, \"i10index\": 129, \"i10index5y\": 91}, {\"profile_name\": \"Hechmi Louzir\", \"profile_link\": \"https://scholar.google.com/citations?hl=zh-TW&user=e59dIcYAAAAJ\", \"profile_affiliations\": \"Institut Pasteur de Tunis, Tunisia\", \"profile_email\": \" pasteur.tn \", \"profile_city_by_count\": \" 4917 \", \"profile_interests\": [\"Immunobiology of Leishmania\", \"Infectious diseases\", \"Vaccine development\"], \"hindex\": 30, \"hindex5y\": 18, \"i10index\": 61, \"i10index5y\": 37}, {\"profile_name\": \"Mohamed JEMNI\", \"profile_link\": \"https://scholar.google.com/citations?hl=zh-TW&user=rtB1aCgAAAAJ\", \"profile_affiliations\": \"Professor of Computer Science and Educational Technologies, University of Tunis, Tunisia\", \"profile_email\": \" fst.rnu.tn \", \"profile_city_by_count\": \" 4851 \", \"profile_interests\": [\"Educational technologies\", \"Online learning\", \"Mobile learning\", \"E-accessibility\", \"Grid and High Performance Computing\"], \"hindex\": 30, \"hindex5y\": 22, \"i10index\": 109, \"i10index5y\": 65}, {\"profile_name\": \"Ahmed Debez\", \"profile_link\": \"https://scholar.google.com/citations?hl=zh-TW&user=LdthlpkAAAAJ\", \"profile_affiliations\": \"of Extremophile Plants (LPE), Center of Biotechnology of Borj-Cedria (CBBC), Tunisia\", \"profile_email\": \" cbbc.rnrt.tn \", \"profile_city_by_count\": \" 4835 \", \"profile_interests\": [\"Extremophile plants\", \"abiotic stresses\", \"eco-physiology\", \"proteomics\"], \"hindex\": 33, \"hindex5y\": 28, \"i10index\": 66, \"i10index5y\": 51}, {\"profile_name\": \"Kamel Hamzaoui\", \"profile_link\": \"https://scholar.google.com/citations?hl=zh-TW&user=BsO8WqMAAAAJ\", \"profile_affiliations\": \"Facult de Mdecine de Tunis\", \"profile_email\": \"\", \"profile_city_by_count\": \" 4779 \", \"profile_interests\": [\"Biologie Immunologie\"], \"hindex\": 39, \"hindex5y\": 26, \"i10index\": 105, \"i10index5y\": 62}, {\"profile_name\": \"Hassib\", \"profile_link\": \"https://scholar.google.com/citations?hl=zh-TW&user=XiFFfwIAAAAJ\", \"profile_affiliations\": \"carthage unversity national institute of applied science and technology\", \"profile_email\": \" insat.u-carthage.tn \", \"profile_city_by_count\": \" 4779 \", \"profile_interests\": [\"environmental engineering\"], \"hindex\": 32, \"hindex5y\": 26, \"i10index\": 51, \"i10index5y\": 42}, {\"profile_name\": \"Lotfi MONSER\", \"profile_link\": \"https://scholar.google.com/citations?hl=zh-TW&user=c2yB8GEAAAAJ\", \"profile_affiliations\": \"Professeur Chimie Analytique, INSAT, Universit de Carthage\", \"profile_email\": \" insat.rnu.tn \", \"profile_city_by_count\": \" 4555 \", \"profile_interests\": [\"Chimie Analytique\", \"traitement des eaux\"], \"hindex\": 30, \"hindex5y\": 20, \"i10index\": 48, \"i10index5y\": 35}, {\"profile_name\": \"Ali Gargouri\", \"profile_link\": \"https://scholar.google.com/citations?hl=zh-TW&user=AfblpW0AAAAJ\", \"profile_affiliations\": \"Centre de Biotechnologie de Sfax\", \"profile_email\": \" cbs.rnrt.tn \", \"profile_city_by_count\": \" 4534 \", \"profile_interests\": [\"Biotechnologie\", \"molecular biology\", \"mitochondrial genetics\", \"enzymes\", \"cancer\"], \"hindex\": 38, \"hindex5y\": 23, \"i10index\": 129, \"i10index5y\": 76}, {\"profile_name\": \"Hamida Turki\", \"profile_link\": \"https://scholar.google.com/citations?hl=zh-TW&user=CLq3eFoAAAAJ\", \"profile_affiliations\": \"SFAX\", \"profile_email\": \" rns.tn \", \"profile_city_by_count\": \" 4525 \", \"profile_interests\": [\"dermatology\"], \"hindex\": 29, \"hindex5y\": 20, \"i10index\": 95, \"i10index5y\": 43}, {\"profile_name\": \"Khaled Trabelsi\", \"profile_link\": \"https://scholar.google.com/citations?hl=zh-TW&user=py2A6AIAAAAJ\", \"profile_affiliations\": \"Research Laboratory: EM2S, LR19JS01, University of Sfax, Tunisia\", \"profile_email\": \" isseps.usf.tn \", \"profile_city_by_count\": \" 4499 \", \"profile_interests\": [\"COVID-19\", \"Sleep\", \"Physical activity\", \"Ramadan fasting\", \"Sport medicine\"], \"hindex\": 29, \"hindex5y\": 27, \"i10index\": 56, \"i10index5y\": 54}, {\"profile_name\": \"Abdelmajid Jemni\", \"profile_link\": \"https://scholar.google.com/citations?hl=zh-TW&user=uAWfcD0AAAAJ\", \"profile_affiliations\": \"Professeur, Universit de Monastir, Ecole Nationale d'Ingnieurs de Monastir, Laboratoire d'\", \"profile_email\": \" enim.rnu.tn \", \"profile_city_by_count\": \" 4482 \", \"profile_interests\": [\"Transfert Thermique\", \"milieux poreux\", \"mthodes inverses\", \"caractrisation thermophysique\", \"thermique de batiments\"], \"hindex\": 36, \"hindex5y\": 29, \"i10index\": 70, \"i10index5y\": 58}, {\"profile_name\": \"Tahar Mechichi\", \"profile_link\": \"https://scholar.google.com/citations?hl=zh-TW&user=mHhFAcMAAAAJ\", \"profile_affiliations\": \"Ecole nationale d'ingnieurs de Sfax, Tunisia\", \"profile_email\": \" enis.rnu.tn \", \"profile_city_by_count\": \" 4392 \", \"profile_interests\": [\"microbiology\", \"biotechnology\", \"biodegradation\"], \"hindex\": 37, \"hindex5y\": 30, \"i10index\": 65, \"i10index5y\": 60}, {\"profile_name\": \"Nejib Kallel\", \"profile_link\": \"https://scholar.google.com/citations?hl=zh-TW&user=6JKSlcgAAAAJ\", \"profile_affiliations\": \"Professor of Earth Sciences and Director of GEOGLOB Laboratory, University of Sfax\", \"profile_email\": \" fss.rnu.tn \", \"profile_city_by_count\": \" 4389 \", \"profile_interests\": [\"Climate and Environnement\"], \"hindex\": 27, \"hindex5y\": 21, \"i10index\": 43, \"i10index5y\": 32}, {\"profile_name\": \"Habib Elhouichet\", \"profile_link\": \"https://scholar.google.com/citations?hl=zh-TW&user=aGwmu0YAAAAJ\", \"profile_affiliations\": \"1- College of Sciences - University of Bisha 2- University of Tunis El Manar.\", \"profile_email\": \" fst.rnu.tn \", \"profile_city_by_count\": \" 4317 \", \"profile_interests\": [\"Nanotechnology and Photonic Glasses\"], \"hindex\": 37, \"hindex5y\": 33, \"i10index\": 102, \"i10index5y\": 75}, {\"profile_name\": \"hafedh ben ouada\", \"profile_link\": \"https://scholar.google.com/citations?hl=zh-TW&user=ZANs7xwAAAAJ\", \"profile_affiliations\": \"professer de physique, universit de Monastir\", \"profile_email\": \" fsm.rnu.tn \", \"profile_city_by_count\": \" 4267 \", \"profile_interests\": [\"capteur\"], \"hindex\": 35, \"hindex5y\": 20, \"i10index\": 120, \"i10index5y\": 55}, {\"profile_name\": \"Mohamed chaieb\", \"profile_link\": \"https://scholar.google.com/citations?hl=zh-TW&user=Srxz61MAAAAJ\", \"profile_affiliations\": \"University of Sfax, Tunisia\", \"profile_email\": \" gnet.tn \", \"profile_city_by_count\": \" 4263 \", \"profile_interests\": [\"Botany and Ecology\"], \"hindex\": 28, \"hindex5y\": 21, \"i10index\": 75, \"i10index5y\": 45}, {\"profile_name\": \"Ridha BEN CHEIKH\", \"profile_link\": \"https://scholar.google.com/citations?hl=zh-TW&user=CNc9hsEAAAAJ\", \"profile_affiliations\": \"Professeur, Ecole Nationale d'Ingnieurs de Tunis\", \"profile_email\": \" enit.rnu.tn \", \"profile_city_by_count\": \" 4237 \", \"profile_interests\": [\"Science des Matriaux\", \"Biomthanisation et synthse organique\"], \"hindex\": 23, \"hindex5y\": 17, \"i10index\": 37, \"i10index5y\": 24}, {\"profile_name\": \"Habiba Chaabouni-Bouhamed\", \"profile_link\": \"https://scholar.google.com/citations?hl=zh-TW&user=MJVF-4IAAAAJ\", \"profile_affiliations\": \"Professor of Genetics\", \"profile_email\": \" rns.tn \", \"profile_city_by_count\": \" 4228 \", \"profile_interests\": [\"Genetics\", \"Medicine\"], \"hindex\": 26, \"hindex5y\": 17, \"i10index\": 50, \"i10index5y\": 26}, {\"profile_name\": \"Margaret M Smith\", \"profile_link\": \"https://scholar.google.com/citations?hl=zh-TW&user=8mQEdQoAAAAJ\", \"profile_affiliations\": \"University of Sydney, NSLHD @ RNS Hospital\", \"profile_email\": \" sydney.edu.au \", \"profile_city_by_count\": \" 4199 \", \"profile_interests\": [\"osteoarthritis\", \"tendon\", \"hyaluronan\", \"tendinopathy\", \"synovium\"], \"hindex\": 45, \"hindex5y\": 37, \"i10index\": 140, \"i10index5y\": 96}, {\"profile_name\": \"Maher Moakher\", \"profile_link\": \"https://scholar.google.com/citations?hl=zh-TW&user=ohRxMbEAAAAJ\", \"profile_affiliations\": \"Professor of Applied Mathematics, National Engineering School at Tunis\", \"profile_email\": \" enit.utm.tn \", \"profile_city_by_count\": \" 4153 \", \"profile_interests\": [\"Matrix analysis\", \"Image processing\", \"Numerical methods\", \"Applied differential geometry\"], \"hindex\": 23, \"hindex5y\": 17, \"i10index\": 35, \"i10index5y\": 27}, {\"profile_name\": \"KECHAOU Nabil\", \"profile_link\": \"https://scholar.google.com/citations?hl=zh-TW&user=sRs-OdUAAAAJ\", \"profile_affiliations\": \"University of Sfax, Tunisia\", \"profile_email\": \" enis.usf.tn \", \"profile_city_by_count\": \" 4113 \", \"profile_interests\": [\"Food engineering\", \"chemical engineering\"], \"hindex\": 35, \"hindex5y\": 30, \"i10index\": 67, \"i10index5y\": 55}, {\"profile_name\": \"maaref hassen\", \"profile_link\": \"https://scholar.google.com/citations?hl=zh-TW&user=TShyISgAAAAJ\", \"profile_affiliations\": \"facult des sciences universite de monastir tunisia\", \"profile_email\": \" fsm.rnu.tn \", \"profile_city_by_count\": \" 4104 \", \"profile_interests\": [\"solid state physics\"], \"hindex\": 31, \"hindex5y\": 18, \"i10index\": 143, \"i10index5y\": 64}, {\"profile_name\": \"Semia Ellouz Chaabouni\", \"profile_link\": \"https://scholar.google.com/citations?hl=zh-TW&user=XJrJEI4AAAAJ\", \"profile_affiliations\": \"Professeur d'universit de Sfax Tunisie\", \"profile_email\": \" enis.rnu.tn \", \"profile_city_by_count\": \" 4098 \", \"profile_interests\": [\"biotechnologie\"], \"hindex\": 35, \"hindex5y\": 30, \"i10index\": 88, \"i10index5y\": 75}, {\"profile_name\": \"Mohamed Souhaiel Chelly\", \"profile_link\": \"https://scholar.google.com/citations?hl=zh-TW&user=WPl5cAMAAAAJ\", \"profile_affiliations\": \"Professeur des Universits, Universit de la Manouba, Tunis.\", \"profile_email\": \" issep.uma.tn \", \"profile_city_by_count\": \" 4041 \", \"profile_interests\": [], \"hindex\": 29, \"hindex5y\": 28, \"i10index\": 61, \"i10index5y\": 55}, {\"profile_name\": \"Abdelmottaleb Ben Lamine\", \"profile_link\": \"https://scholar.google.com/citations?hl=zh-TW&user=ibc0b80AAAAJ\", \"profile_affiliations\": \"Professor, Physics, University of Monastir\", \"profile_email\": \"\", \"profile_city_by_count\": \" 4033 \", \"profile_interests\": [\"Statistical Physics\"], \"hindex\": 36, \"hindex5y\": 32, \"i10index\": 98, \"i10index5y\": 90}, {\"profile_name\": \"Asma Aloui\", \"profile_link\": \"https://scholar.google.com/citations?hl=zh-TW&user=FcS2q9cAAAAJ\", \"profile_affiliations\": \"High Institute of Sport and Physical Education, University of Gafsa, Tunisia\", \"profile_email\": \" issepgf.u-gafsa.tn \", \"profile_city_by_count\": \" 4018 \", \"profile_interests\": [\"Chronobiology\", \"Ramadan fasting\"], \"hindex\": 25, \"hindex5y\": 21, \"i10index\": 43, \"i10index5y\": 41}, {\"profile_name\": \"Richard NS Robinson\", \"profile_link\": \"https://scholar.google.com/citations?hl=zh-TW&user=H3IXDdwAAAAJ\", \"profile_affiliations\": \"University of Queensland\", \"profile_email\": \" uq.edu.au \", \"profile_city_by_count\": \" 4017 \", \"profile_interests\": [\"Tourism and Hospitality Workforce\", \"Culinary Worker Experiences & MH&W\", \"Food Tourism and Food Studies\", \"Scholarship of\"], \"hindex\": 33, \"hindex5y\": 29, \"i10index\": 53, \"i10index5y\": 48}, {\"profile_name\": \"Kamel Zouari\", \"profile_link\": \"https://scholar.google.com/citations?hl=zh-TW&user=bgBDeK0AAAAJ\", \"profile_affiliations\": \"ENIS, University of Sfax, Tunisia\", \"profile_email\": \" enis.rnu.tn \", \"profile_city_by_count\": \" 4016 \", \"profile_interests\": [\"hydrogeology\", \"isotopes\", \"geochemistry\"], \"hindex\": 35, \"hindex5y\": 23, \"i10index\": 97, \"i10index5y\": 67}, {\"profile_name\": \"Mourad MOKNI\", \"profile_link\": \"https://scholar.google.com/citations?hl=zh-TW&user=1GdLsAQAAAAJ\", \"profile_affiliations\": \"Professeur de dermatologie\", \"profile_email\": \" rns.tn \", \"profile_city_by_count\": \" 4011 \", \"profile_interests\": [\"Dermatologie\"], \"hindex\": 32, \"hindex5y\": 22, \"i10index\": 94, \"i10index5y\": 51}, {\"profile_name\": \"Ridha Barbouche\", \"profile_link\": \"https://scholar.google.com/citations?hl=zh-TW&user=UfBKKI8AAAAJ\", \"profile_affiliations\": \"Institut Pasteur de Tunis\", \"profile_email\": \" pasteur.rns.tn \", \"profile_city_by_count\": \" 3949 \", \"profile_interests\": [\"Immunology Genetics Infectious diseases\"], \"hindex\": 31, \"hindex5y\": 24, \"i10index\": 59, \"i10index5y\": 45}, {\"profile_name\": \"hichem Ben jannet\", \"profile_link\": \"https://scholar.google.com/citations?hl=zh-TW&user=6oNF97AAAAAJ\", \"profile_affiliations\": \"Professor\", \"profile_email\": \" fsm.rnu.tn \", \"profile_city_by_count\": \" 3896 \", \"profile_interests\": [\"phytochemistry and medicinal chemistry\"], \"hindex\": 30, \"hindex5y\": 24, \"i10index\": 120, \"i10index5y\": 94}, {\"profile_name\": \"Ali Bouattour\", \"profile_link\": \"https://scholar.google.com/citations?hl=zh-TW&user=GxiTux4AAAAJ\", \"profile_affiliations\": \"Chercheur biologiste entomologiste, Institut Pasteur de Tunis, Universit Tunis El Manar\", \"profile_email\": \" pasteur.tn \", \"profile_city_by_count\": \" 3851 \", \"profile_interests\": [\"Entomologie Mdicale\", \"vecteurs et pathognes transmis par les\"], \"hindex\": 32, \"hindex5y\": 23, \"i10index\": 72, \"i10index5y\": 53}, {\"profile_name\": \"Salwa ABID\", \"profile_link\": \"https://scholar.google.com/citations?hl=zh-TW&user=WPAkqN0AAAAJ\", \"profile_affiliations\": \"Maitre assistant, Universit de Monastir\", \"profile_email\": \"\", \"profile_city_by_count\": \" 3824 \", \"profile_interests\": [\"Toxicologie Molculaire\"], \"hindex\": 35, \"hindex5y\": 26, \"i10index\": 77, \"i10index5y\": 71}, {\"profile_name\": \"said khaled\", \"profile_link\": \"https://scholar.google.com/citations?hl=zh-TW&user=L2xzof8AAAAJ\", \"profile_affiliations\": \"Laboratoire LR11ES41, Institut Suprieur de Biotechnologie, Universit de Monastir\", \"profile_email\": \"\", \"profile_city_by_count\": \" 3824 \", \"profile_interests\": [\"gntique\", \"volution\", \"biologie molculaire\", \"biologie de la conservation\", \"cophysiologie  environnement\"], \"hindex\": 39, \"hindex5y\": 36, \"i10index\": 69, \"i10index5y\": 68}, {\"profile_name\": \"Nafaa Adhoum\", \"profile_link\": \"https://scholar.google.com/citations?hl=zh-TW&user=oBIvsH0AAAAJ\", \"profile_affiliations\": \"Professeur de Chimie, Universit de Kairouan\", \"profile_email\": \" insat.rnu.tn \", \"profile_city_by_count\": \" 3799 \", \"profile_interests\": [\"Electrochimie\", \"Chimie analytique\", \"Environnement\"], \"hindex\": 23, \"hindex5y\": 17, \"i10index\": 30, \"i10index5y\": 24}, {\"profile_name\": \"Souheil ElAtrous\", \"profile_link\": \"https://scholar.google.com/citations?hl=zh-TW&user=5Nomek8AAAAJ\", \"profile_affiliations\": \"Intensive care unit\", \"profile_email\": \" rns.tn \", \"profile_city_by_count\": \" 3781 \", \"profile_interests\": [\"Intensive care\"], \"hindex\": 28, \"hindex5y\": 17, \"i10index\": 36, \"i10index5y\": 27}, {\"profile_name\": \"EMNA AMMAR\", \"profile_link\": \"https://scholar.google.com/citations?hl=zh-TW&user=nPiLvhkAAAAJ\", \"profile_affiliations\": \"Ecole Nationale d'Ingnieurs de Sfax, Tunisie\", \"profile_email\": \" enis.tn \", \"profile_city_by_count\": \" 3779 \", \"profile_interests\": [\"Biotechnologie microbienne\", \"sciences de l'environnement\"], \"hindex\": 36, \"hindex5y\": 28, \"i10index\": 72, \"i10index5y\": 57}, {\"profile_name\": \"Julie Dahlstrom\", \"profile_link\": \"https://scholar.google.com/citations?hl=zh-TW&user=5vQ3F90AAAAJ\", \"profile_affiliations\": \"Associate Professor and Chair of Physics & Astronomy, Carthage College\", \"profile_email\": \" carthage.edu \", \"profile_city_by_count\": \" 3736 \", \"profile_interests\": [\"astrophysics\", \"high-resolution spectroscopy\", \"interstellar medium\"], \"hindex\": 33, \"hindex5y\": 19, \"i10index\": 46, \"i10index5y\": 24}, {\"profile_name\": \"Mabrouk Bahloul\", \"profile_link\": \"https://scholar.google.com/citations?hl=zh-TW&user=B7kM0lwAAAAJ\", \"profile_affiliations\": \"CHU habib Bourguiba Sfax\", \"profile_email\": \"\", \"profile_city_by_count\": \" 3730 \", \"profile_interests\": [], \"hindex\": 28, \"hindex5y\": 21, \"i10index\": 63, \"i10index5y\": 39}, {\"profile_name\": \"hamadi fetoui\", \"profile_link\": \"https://scholar.google.com/citations?hl=zh-TW&user=7oORHQwAAAAJ\", \"profile_affiliations\": \"university of Sfax, Tunisia\", \"profile_email\": \" fss.usf.tn \", \"profile_city_by_count\": \" 3690 \", \"profile_interests\": [\"Neurotoxicology\", \"animal models\", \"oxidative stress\", \"neuroinflammation\"], \"hindex\": 36, \"hindex5y\": 31, \"i10index\": 71, \"i10index5y\": 62}, {\"profile_name\": \"Abdelilah Chaoui\", \"profile_link\": \"https://scholar.google.com/citations?hl=zh-TW&user=6PjduaoAAAAJ\", \"profile_affiliations\": \"Professor, Plant Physiology, University of Carthage, Faculty of Sciences of Bizerte, TUNISIA\", \"profile_email\": \" fsb.ucar.tn \", \"profile_city_by_count\": \" 3678 \", \"profile_interests\": [\"Plant Physiology and Biochemistry\", \"Plant Toxicology\", \"Abiotic Stress\"], \"hindex\": 26, \"hindex5y\": 20, \"i10index\": 44, \"i10index5y\": 37}, {\"profile_name\": \"Dr. Lotfi Sellaoui\", \"profile_link\": \"https://scholar.google.com/citations?hl=zh-TW&user=f6FHgvwAAAAJ\", \"profile_affiliations\": \"Monastir University\", \"profile_email\": \"\", \"profile_city_by_count\": \" 3671 \", \"profile_interests\": [\"Adsorption\", \"Modeling\"], \"hindex\": 36, \"hindex5y\": 36, \"i10index\": 79, \"i10index5y\": 79}, {\"profile_name\": \"Lotfi  ACHOUR\", \"profile_link\": \"https://scholar.google.com/citations?hl=zh-TW&user=y9fmvnwAAAAJ\", \"profile_affiliations\": \"Institut Suprieur de Biotechnologie de Monastir, Universit de Monastir\", \"profile_email\": \" biolival.com \", \"profile_city_by_count\": \" 3643 \", \"profile_interests\": [\"Medical and Health Sciences\"], \"hindex\": 30, \"hindex5y\": 26, \"i10index\": 61, \"i10index5y\": 56}, {\"profile_name\": \"Mounir Kanzari\", \"profile_link\": \"https://scholar.google.com/citations?hl=zh-TW&user=9E41jUhfroMC\", \"profile_affiliations\": \"LPMS-Tunis\", \"profile_email\": \" ipeit.rnu.tn \", \"profile_city_by_count\": \" 3633 \", \"profile_interests\": [\"semiconducteurs en couches minces et\"], \"hindex\": 29, \"hindex5y\": 20, \"i10index\": 116, \"i10index5y\": 67}, {\"profile_name\": \"Mehdi Ben Jebli\", \"profile_link\": \"https://scholar.google.com/citations?hl=zh-TW&user=S0Pe2BMAAAAJ\", \"profile_affiliations\": \"Fsjegj de jendouba, universit de Jendouba\", \"profile_email\": \" fsjegj.u-jendouba.tn \", \"profile_city_by_count\": \" 3599 \", \"profile_interests\": [\"nergies renouvelables et environnement\"], \"hindex\": 25, \"hindex5y\": 24, \"i10index\": 29, \"i10index5y\": 28}, {\"profile_name\": \"Boussaid Mohamed\", \"profile_link\": \"https://scholar.google.com/citations?hl=zh-TW&user=MVXJzj8AAAAJ\", \"profile_affiliations\": \"Professor (Biodiversity), National Institute of Applied Science and Technology: Tunis, TN\", \"profile_email\": \" insat.rnu.tn \", \"profile_city_by_count\": \" 3500 \", \"profile_interests\": [\"Biological Sciences\", \"Biodiversity\"], \"hindex\": 32, \"hindex5y\": 25, \"i10index\": 88, \"i10index5y\": 60}, {\"profile_name\": \"Pr. Dr. Ing. Karem BOUBAKER\", \"profile_link\": \"https://scholar.google.com/citations?hl=zh-TW&user=tGrKmI0AAAAJ\", \"profile_affiliations\": \"ENSIT, Universit de TUNIS, Tunisie\", \"profile_email\": \"\", \"profile_city_by_count\": \" 3491 \", \"profile_interests\": [\"Applied Physics\", \"Heat Transfer\", \"Biophysics\", \"Semiconductors\", \"Renewable Energies\"], \"hindex\": 36, \"hindex5y\": 23, \"i10index\": 92, \"i10index5y\": 50}, {\"profile_name\": \"Mohamed Benrejeb\", \"profile_link\": \"https://scholar.google.com/citations?hl=zh-TW&user=LuArMPQAAAAJ\", \"profile_affiliations\": \"Professeur Emerite. Laboratoire de Recherche en Automatique, ENI de Tunis\", \"profile_email\": \" enit.rnu.tn \", \"profile_city_by_count\": \" 3487 \", \"profile_interests\": [\"Automatic control-Stability-Arrow Form Matrix\"], \"hindex\": 25, \"hindex5y\": 14, \"i10index\": 108, \"i10index5y\": 29}, {\"profile_name\": \"Raja BEN AMAR\", \"profile_link\": \"https://scholar.google.com/citations?hl=zh-TW&user=ChDsXCQAAAAJ\", \"profile_affiliations\": \"Professeur en chimie, Facult des sciences de sfax, universit de sfax\", \"profile_email\": \" fss.usf.tn \", \"profile_city_by_count\": \" 3487 \", \"profile_interests\": [\"Technologie membranaire\", \"traitement des eaux\", \"procds de separation\", \"dessalement\"], \"hindex\": 34, \"hindex5y\": 26, \"i10index\": 66, \"i10index5y\": 57}, {\"profile_name\": \"Brahim Hnich\", \"profile_link\": \"https://scholar.google.com/citations?hl=zh-TW&user=2oRyj9QAAAAJ\", \"profile_affiliations\": \"Professor of Computer Science, Dept. of Computer Science, Monastir University, Tunisia\", \"profile_email\": \" fsm.rnu.tn \", \"profile_city_by_count\": \" 3461 \", \"profile_interests\": [\"Artificial Intelligence\", \"Constraint Programming\", \"Uncertainty\"], \"hindex\": 35, \"hindex5y\": 17, \"i10index\": 82, \"i10index5y\": 29}, {\"profile_name\": \"Dhafer Laouini\", \"profile_link\": \"https://scholar.google.com/citations?hl=zh-TW&user=vewagG0AAAAJ\", \"profile_affiliations\": \"Institut Pasteur de Tunis\", \"profile_email\": \" pasteur.rns.tn \", \"profile_city_by_count\": \" 3453 \", \"profile_interests\": [\"Immunology\", \"Infectious Diseases\", \"Immunobiology of Leishmania\"], \"hindex\": 25, \"hindex5y\": 18, \"i10index\": 43, \"i10index5y\": 27}, {\"profile_name\": \"Bassem BOUAZIZ\", \"profile_link\": \"https://scholar.google.com/citations?hl=zh-TW&user=KVdMlqMAAAAJ\", \"profile_affiliations\": \"Ass. professor, University of Sfax.\", \"profile_email\": \" isims.usf.tn \", \"profile_city_by_count\": \" 3440 \", \"profile_interests\": [\"Image and Video Processing\", \"Multimedia Indexing and text detection\", \"video text localisation\", \"Semantics\", \"deep learning and biodiv\"], \"hindex\": 18, \"hindex5y\": 16, \"i10index\": 22, \"i10index5y\": 18}, {\"profile_name\": \"faical Brini\", \"profile_link\": \"https://scholar.google.com/citations?hl=zh-TW&user=IJvDcIsAAAAJ\", \"profile_affiliations\": \"Centre of Biotechnology of Sfax\", \"profile_email\": \" cbs.rnrt.tn \", \"profile_city_by_count\": \" 3430 \", \"profile_interests\": [\"Plant Molecular Biology\"], \"hindex\": 27, \"hindex5y\": 25, \"i10index\": 58, \"i10index5y\": 54}, {\"profile_name\": \"Liwa Masmoudi\", \"profile_link\": \"https://scholar.google.com/citations?hl=zh-TW&user=2OFOUuEAAAAJ\", \"profile_affiliations\": \"High Institute of Sport and Physical Education of Sfax, University of Sfax, Sfax, Tunisia\", \"profile_email\": \" isseps.usf.tn \", \"profile_city_by_count\": \" 3420 \", \"profile_interests\": [\"Sports sciences\"], \"hindex\": 20, \"hindex5y\": 18, \"i10index\": 33, \"i10index5y\": 30}, {\"profile_name\": \"Moez HANIN\", \"profile_link\": \"https://scholar.google.com/citations?hl=zh-TW&user=6-YGhuUAAAAJ\", \"profile_affiliations\": \"University of Sfax\", \"profile_email\": \" isbs.usf.tn \", \"profile_city_by_count\": \" 3418 \", \"profile_interests\": [\"Plant Biotechnology\"], \"hindex\": 26, \"hindex5y\": 19, \"i10index\": 34, \"i10index5y\": 29}, {\"profile_name\": \"Mohamed JARRAYA\", \"profile_link\": \"https://scholar.google.com/citations?hl=zh-TW&user=OWmf28EAAAAJ\", \"profile_affiliations\": \"Professor in sports science, University of Sfax\", \"profile_email\": \" isseps.usf.tn \", \"profile_city_by_count\": \" 3413 \", \"profile_interests\": [\"Sports science\"], \"hindex\": 16, \"hindex5y\": 15, \"i10index\": 24, \"i10index5y\": 22}, {\"profile_name\": \"Mohamed Ali Ayadi\", \"profile_link\": \"https://scholar.google.com/citations?hl=zh-TW&user=B8xarQMAAAAJ\", \"profile_affiliations\": \"Professor Food Engineering University of Sfax,\", \"profile_email\": \" isbs.usf.tn \", \"profile_city_by_count\": \" 3355 \", \"profile_interests\": [\"food science and technology\"], \"hindex\": 31, \"hindex5y\": 29, \"i10index\": 71, \"i10index5y\": 60}]\n"
     ]
    }
   ],
   "source": [
    "documents = json_loader.load()\n",
    "for doc in documents:\n",
    "    print(doc.page_content)  # This will contain the JSON data as a string.\n"
   ]
  },
  {
   "cell_type": "code",
   "execution_count": 2,
   "metadata": {},
   "outputs": [],
   "source": [
    "embeddings = OpenAIEmbeddings(model=\"text-embedding-3-large\",\n",
    "                              dimensions=1024)\n"
   ]
  },
  {
   "cell_type": "code",
   "execution_count": 3,
   "metadata": {},
   "outputs": [
    {
     "data": {
      "text/plain": [
       "OpenAIEmbeddings(client=<openai.resources.embeddings.Embeddings object at 0x000001C47FB99E90>, async_client=<openai.resources.embeddings.AsyncEmbeddings object at 0x000001C47F97E850>, model='text-embedding-3-large', dimensions=1024, deployment='text-embedding-ada-002', openai_api_version=None, openai_api_base='https://models.inference.ai.azure.com', openai_api_type=None, openai_proxy=None, embedding_ctx_length=8191, openai_api_key=SecretStr('**********'), openai_organization=None, allowed_special=None, disallowed_special=None, chunk_size=1000, max_retries=2, request_timeout=None, headers=None, tiktoken_enabled=True, tiktoken_model_name=None, show_progress_bar=False, model_kwargs={}, skip_empty=False, default_headers=None, default_query=None, retry_min_seconds=4, retry_max_seconds=20, http_client=None, http_async_client=None, check_embedding_ctx_length=True)"
      ]
     },
     "execution_count": 3,
     "metadata": {},
     "output_type": "execute_result"
    }
   ],
   "source": [
    "embeddings"
   ]
  },
  {
   "cell_type": "code",
   "execution_count": 45,
   "metadata": {},
   "outputs": [],
   "source": [
    "## create a vectorstore\n",
    "embeddings = OpenAIEmbeddings(model=\"text-embedding-3-large\",\n",
    "                              dimensions=1024)\n",
    "\n",
    "index = VectorstoreIndexCreator(\n",
    "    embedding=embeddings,\n",
    "    vectorstore_cls=DocArrayInMemorySearch\n",
    ").from_loaders([json_loader])"
   ]
  },
  {
   "cell_type": "code",
   "execution_count": 46,
   "metadata": {},
   "outputs": [],
   "source": [
    "query = \"what are the top 10 authors with the highest h-index?\"\n",
    "response = index.query(query,llm)\n"
   ]
  },
  {
   "cell_type": "code",
   "execution_count": 47,
   "metadata": {},
   "outputs": [
    {
     "data": {
      "text/markdown": [
       " \n",
       "1. Adel Trabelsi - h-index: 86\n",
       "2. Chedly Abdelly - h-index: 72\n",
       "3. EMNA AMMAR - h-index: 36\n",
       "4. Julie Dahlstrom - h-index: 33\n",
       "5. Mabrouk Bahloul - h-index: 32\n",
       "6. Ridha Barbouche - h-index: 31\n",
       "7. hichem Ben jannet - h-index: 30\n",
       "8. Moncef nasri - h-index: 45\n",
       "9. Maher Moakher - h-index: 23\n",
       "10. (not enough data to determine the 10th author) \n",
       "\n",
       "(Note: The list is not in order of h-index, and the last entry is a placeholder indicating that there are not enough authors listed to provide a complete top 10.)<|fim_suffix|>1. Adel Trabelsi - h-index: 86\n",
       "2. Chedly Abdelly - h-index: 72\n",
       "3. EMNA AMMAR - h-index: 36\n",
       "4. Julie Dahlstrom - h-index: 33\n",
       "5. Mabrouk Bahloul - h-index: 32\n",
       "6. Ridha Barbouche - h-index: 31\n",
       "7. hic"
      ],
      "text/plain": [
       "<IPython.core.display.Markdown object>"
      ]
     },
     "metadata": {},
     "output_type": "display_data"
    }
   ],
   "source": [
    "display(Markdown(response))"
   ]
  },
  {
   "cell_type": "code",
   "execution_count": 50,
   "metadata": {},
   "outputs": [],
   "source": [
    "query = \"What are the most interesting fields of research based on authors contributions?\"\n",
    "response = index.query(query,llm)"
   ]
  },
  {
   "cell_type": "code",
   "execution_count": 51,
   "metadata": {},
   "outputs": [
    {
     "data": {
      "text/markdown": [
       " The most interesting fields of research based on the authors' contributions include:\n",
       "\n",
       "1. Physics and High Energy Physics (Adel Trabelsi)\n",
       "2. Biotechnology and Environmental Sciences (Emna Ammar)\n",
       "3. Astrophysics and Interstellar Medium (Julie Dahlstrom)\n",
       "4. Osteoarthritis and Tendon Research (Mabrouk Bahloul)\n",
       "5. Matrix Analysis and Image Processing (Maher Moakher)\n",
       "6. Ecophysiology and Halophytes (Chedly Abdelly)\n",
       "7. Chronobiology and Ramadan Fasting (Moncef Nasri)\n",
       "8. Tourism and Culinary Studies (Richard NS Robinson)\n",
       "9. Hydrogeology and Geochemistry (Kamel Zouari) \n",
       "\n",
       "These fields reflect a diverse range of scientific inquiry and innovation.<|fim_suffix|>The most interesting fields of research based on the authors' contributions include:\n",
       "\n",
       "1. Physics and High Energy Physics (Adel Trabelsi)\n",
       "2. Biotechnology and Environmental Sciences (Emna Ammar)\n",
       "3. Astrophysics and Interstellar Medium (Julie Dahlstrom)\n",
       "4. Osteoarthritis and Tendon Research (Mabrouk Bahloul)\n",
       "5. Matrix Analysis and Image Processing (Maher Moakher)\n",
       "6. Ecophysiology and Halophytes (Chedly Abdel"
      ],
      "text/plain": [
       "<IPython.core.display.Markdown object>"
      ]
     },
     "metadata": {},
     "output_type": "display_data"
    }
   ],
   "source": [
    "display(Markdown(response))"
   ]
  },
  {
   "cell_type": "code",
   "execution_count": 52,
   "metadata": {},
   "outputs": [],
   "source": [
    "query = \"who are the authors that does not seem to be Tunisian?\"\n",
    "response = index.query(query,llm)"
   ]
  },
  {
   "cell_type": "code",
   "execution_count": 54,
   "metadata": {},
   "outputs": [],
   "source": [
    "query = \"Who are the authors that have many contributions in the field of computer science?\"\n",
    "response = index.query(query,llm)"
   ]
  },
  {
   "cell_type": "code",
   "execution_count": 55,
   "metadata": {},
   "outputs": [
    {
     "data": {
      "text/markdown": [
       " The authors with significant contributions in the field of computer science include:\n",
       "\n",
       "1. Habib Youssef - Professor of Computer Science, University of Sousse, Tunisia\n",
       "   - Interests: Computer Networks, Cyber-physical systems, Performance analysis, Combinatorial optimization\n",
       "   - h-index: 28, i10-index: 86\n",
       "\n",
       "2. Brahim Hnich - Professor of Computer Science, Dept. of Computer Science, Monastir University, Tunisia\n",
       "   - Interests: Artificial Intelligence, Constraint Programming, Uncertainty\n",
       "   - h-index: 35, i10-index: 82\n",
       "\n",
       "These authors have demonstrated substantial research output and impact in their respective areas within computer science.<|fim_suffix|>The authors with significant contributions in the field of computer science include:\n",
       "\n",
       "1. **Habib Youssef** - Professor of Computer Science, University of Sousse, Tunisia\n",
       "   - Interests: Computer Networks, Cyber-physical systems, Performance analysis, Combinatorial optimization\n",
       "   - h-index: 28, i10-index: 86\n",
       "\n",
       "2. **Brahim Hnich** - Professor of Computer Science, Dept. of Computer Science, Monastir University, Tunisia\n",
       "   - Interests: Artificial Intelligence, Constraint Programming, Uncertainty\n",
       "   - h-index: "
      ],
      "text/plain": [
       "<IPython.core.display.Markdown object>"
      ]
     },
     "metadata": {},
     "output_type": "display_data"
    }
   ],
   "source": [
    "display(Markdown(response))"
   ]
  },
  {
   "cell_type": "code",
   "execution_count": 62,
   "metadata": {},
   "outputs": [],
   "source": [
    "## Let's do it with more data now \n",
    "from langchain.text_splitter import RecursiveCharacterTextSplitter\n",
    "from langchain.vectorstores import FAISS"
   ]
  },
  {
   "cell_type": "code",
   "execution_count": 132,
   "metadata": {},
   "outputs": [
    {
     "name": "stdout",
     "output_type": "stream",
     "text": [
      "Number of chunks created: 10337\n"
     ]
    }
   ],
   "source": [
    "# Load the large JSON document\n",
    "with open(\"../authors_with_h_index.json\", \"r\", encoding=\"utf-8\") as file:\n",
    "    large_json = json.load(file)\n",
    "\n",
    "# Convert the JSON to a formatted string for better chunking\n",
    "def flatten_json(json_obj, indent=0):\n",
    "    result = []\n",
    "    for key, value in json_obj.items():\n",
    "        if isinstance(value, dict):\n",
    "            result.append(f\"{'  ' * indent}{key}:\")\n",
    "            result.extend(flatten_json(value, indent + 1))\n",
    "        elif isinstance(value, list):\n",
    "            result.append(f\"{'  ' * indent}{key}: [\")\n",
    "            for item in value:\n",
    "                result.append(f\"{'  ' * (indent + 1)}- {json.dumps(item)}\")\n",
    "            result.append(f\"{'  ' * indent}]\")\n",
    "        else:\n",
    "            result.append(f\"{'  ' * indent}{key}: {json.dumps(value)}\")\n",
    "    return result\n",
    "\n",
    "# Flatten and join the JSON as a string\n",
    "flattened_text = \"\\n\".join([item for author in large_json for item in flatten_json(author)])\n",
    "\n",
    "# Split the flattened text into chunks\n",
    "text_splitter = RecursiveCharacterTextSplitter(chunk_size=190, chunk_overlap=10)\n",
    "chunks = text_splitter.split_text(flattened_text)\n",
    "\n",
    "print(f\"Number of chunks created: {len(chunks)}\")\n"
   ]
  },
  {
   "cell_type": "code",
   "execution_count": 133,
   "metadata": {},
   "outputs": [
    {
     "name": "stderr",
     "output_type": "stream",
     "text": [
      "c:\\Users\\mohamed\\Desktop\\pprojects\\tunisScience\\TuniScholar\\venv\\Lib\\site-packages\\langchain_community\\embeddings\\openai.py:271: UserWarning: WARNING! dimensions is not default parameter.\n",
      "                    dimensions was transferred to model_kwargs.\n",
      "                    Please confirm that dimensions is what you intended.\n",
      "  warnings.warn(\n"
     ]
    }
   ],
   "source": [
    "embedding_model = OpenAIEmbeddings(model=\"text-embedding-3-large\",dimensions=1024)\n",
    "\n",
    "# Embed each chunk and add to FAISS\n",
    "vectorstore = FAISS.from_texts(chunks, embedding_model)\n",
    "\n",
    "# Save the FAISS index for later use\n",
    "vectorstore.save_local(\"faiss_index\")\n"
   ]
  },
  {
   "cell_type": "code",
   "execution_count": null,
   "metadata": {},
   "outputs": [],
   "source": [
    "from langchain_openai import OpenAIEmbeddings\n",
    "\n",
    "embedding_model = OpenAIEmbeddings(model=\"text-embedding-3-large\",dimensions=1024)\n",
    "\n",
    "# Load the saved FAISS index\n",
    "vectorstore = FAISS.load_local(\"faiss_index\", embedding_model,allow_dangerous_deserialization=True)\n",
    "\n",
    "# Perform a similarity search\n",
    "query = \"what is the most successful research field in Tunisia?\"\n",
    "results = vectorstore.similarity_search(query, k=5)\n",
    "for result in results:\n",
    "    print(result.page_content)\n"
   ]
  },
  {
   "cell_type": "code",
   "execution_count": null,
   "metadata": {},
   "outputs": [],
   "source": [
    "from langchain.chains import RetrievalQA\n",
    "\n",
    "query = \"What is the most successful research field in Tunisia?\"\n",
    "\n",
    "# Retrieve the top 10 relevant chunks from the vector store\n",
    "retriever = vectorstore.as_retriever(search_kwargs={\"k\": 10})\n",
    "\n",
    "# Create the QA chain with the retriever and LLM\n",
    "qa_chain = RetrievalQA.from_chain_type(llm=llm, retriever=retriever, return_source_documents=True)\n",
    "\n",
    "# Run the query\n",
    "response = qa_chain.invoke(query)\n",
    "\n",
    "# Print the result and source documents\n",
    "print(\"\\nResponse:\\n\", response[\"result\"])\n",
    "print(\"\\nSource Documents:\")\n",
    "for doc in response[\"source_documents\"]:\n",
    "    print(f\"Source:\\n{doc.page_content}\\n{'-' * 80}\")\n"
   ]
  },
  {
   "cell_type": "code",
   "execution_count": 149,
   "metadata": {},
   "outputs": [
    {
     "data": {
      "text/markdown": [
       " I don't know.<|fim_suffix|>I don't know.<|fim_suffix|>"
      ],
      "text/plain": [
       "<IPython.core.display.Markdown object>"
      ]
     },
     "metadata": {},
     "output_type": "display_data"
    }
   ],
   "source": [
    "display(Markdown(response))"
   ]
  },
  {
   "cell_type": "code",
   "execution_count": null,
   "metadata": {},
   "outputs": [],
   "source": [
    "import os\n",
    "\n",
    "from azure.ai.inference import EmbeddingsClient\n",
    "from azure.core.credentials import AzureKeyCredential\n",
    "\n",
    "endpoint = \"https://models.inference.ai.azure.com\"\n",
    "model_name = \"Cohere-embed-v3-english\"\n",
    "token = os.environ[\"GITHUB_TOKEN\"]\n",
    "\n",
    "client = EmbeddingsClient(\n",
    "    endpoint=endpoint,\n",
    "    credential=AzureKeyCredential(token)\n",
    ")\n",
    "\n",
    "response = client.embed(\n",
    "    input=[\"first phrase\", \"second phrase\", \"third phrase\"],\n",
    "    model=model_name\n",
    ")\n",
    "\n",
    "for item in response.data:\n",
    "    length = len(item.embedding)\n",
    "    print(\n",
    "        f\"data[{item.index}]: length={length}, \"\n",
    "        f\"[{item.embedding[0]}, {item.embedding[1]}, \"\n",
    "        f\"..., {item.embedding[length-2]}, {item.embedding[length-1]}]\"\n",
    "    )\n",
    "print(response.usage)"
   ]
  },
  {
   "cell_type": "code",
   "execution_count": 1,
   "metadata": {},
   "outputs": [],
   "source": [
    "import json\n",
    "\n",
    "# Load your JSON dataset\n",
    "with open(\"../authors_with_h_index.json\", encoding=\"utf-8\") as f:\n",
    "    authors = json.load(f)\n",
    "\n",
    "# Flatten and chunk the JSON data\n",
    "def flatten_json(json_obj):\n",
    "    \"\"\"Flatten nested JSON into key-value pairs.\"\"\"\n",
    "    out = {}\n",
    "\n",
    "    def recurse(t, parent_key=\"\"):\n",
    "        if isinstance(t, dict):\n",
    "            for k, v in t.items():\n",
    "                recurse(v, parent_key + k + \".\")\n",
    "        elif isinstance(t, list):\n",
    "            for i, v in enumerate(t):\n",
    "                recurse(v, parent_key + str(i) + \".\")\n",
    "        else:\n",
    "            out[parent_key[:-1]] = t\n",
    "\n",
    "    recurse(json_obj)\n",
    "    return out\n",
    "\n",
    "# Convert and chunk the data\n",
    "\n",
    "# Ensure that each batch has at most 96 items\n",
    "chunk_size = 96  # Cohere API limit\n",
    "flat_data = [json.dumps(flatten_json(author)) for author in authors]\n"
   ]
  },
  {
   "cell_type": "code",
   "execution_count": 4,
   "metadata": {},
   "outputs": [],
   "source": [
    "from azure.ai.inference import EmbeddingsClient\n",
    "from azure.core.credentials import AzureKeyCredential\n",
    " \n",
    "\n",
    "endpoint = \"https://models.inference.ai.azure.com\"\n",
    "client = EmbeddingsClient(endpoint=endpoint, credential=AzureKeyCredential(token))\n",
    "model_name = \"Cohere-embed-v3-multilingual\""
   ]
  },
  {
   "cell_type": "code",
   "execution_count": 7,
   "metadata": {},
   "outputs": [],
   "source": [
    "from langchain_cohere.chat_models import ChatCohere\n",
    "from langchain_cohere import CohereEmbeddings\n",
    "from langchain_core.documents.base import Document\n",
    "from langchain.vectorstores import FAISS\n",
    "from langchain.schema.runnable import RunnablePassthrough, RunnableLambda\n",
    "from langchain.schema.output_parser import StrOutputParser\n",
    "from langchain.prompts import ChatPromptTemplate\n",
    "from langchain.schema import HumanMessage\n",
    "\n",
    "# Set up the embedding model to be used in the vector index\n",
    "embed_model = CohereEmbeddings(\n",
    "    base_url=endpoint, cohere_api_key=os.environ[\"GITHUB_TOKEN\"], model=model_name\n",
    ")\n"
   ]
  },
  {
   "cell_type": "code",
   "execution_count": null,
   "metadata": {},
   "outputs": [],
   "source": [
    "from langchain.embeddings.base import Embeddings\n",
    "from langchain.vectorstores import FAISS\n",
    "\n",
    "endpoint = \"https://models.inference.ai.azure.com\"\n",
    "client = EmbeddingsClient(endpoint=endpoint, credential=AzureKeyCredential(token))\n",
    "model_name = \"Cohere-embed-v3-english\"\n",
    "\n",
    "class CustomAzureEmbeddings(Embeddings):\n",
    "    def __init__(self, client, model_name):\n",
    "        self.client = client\n",
    "        self.model_name = model_name\n",
    "        \n",
    "    def embed_documents(self, texts):\n",
    "        # Handle batch size limit of 96\n",
    "        chunk_size = 96\n",
    "        all_embeddings = []\n",
    "        \n",
    "        for i in range(0, len(texts), chunk_size):\n",
    "            chunk = texts[i:i + chunk_size]\n",
    "            response = self.client.embed(input=chunk, model=self.model_name)\n",
    "            embeddings = [item.embedding for item in response.data]\n",
    "            all_embeddings.extend(embeddings)\n",
    "        \n",
    "        return all_embeddings\n",
    "    \n",
    "    def embed_query(self, text):\n",
    "        response = self.client.embed(input=[text], model=self.model_name)\n",
    "        return response.data[0].embedding\n",
    "\n",
    "# Create custom embedding function\n",
    "embedding_function = CustomAzureEmbeddings(client, model_name)\n",
    "\n",
    "# Create FAISS index with the custom embedding function\n",
    "vectorstore = FAISS.from_texts(\n",
    "    texts=flat_data,\n",
    "    embedding=embedding_function,\n",
    "    metadatas=[{\"source\": str(i)} for i in range(len(flat_data))]\n",
    ")\n",
    "\n",
    "# Save the FAISS index\n",
    "vectorstore.save_local(\"faiss_cohere_index\")\n",
    "\n"
   ]
  },
  {
   "cell_type": "code",
   "execution_count": 8,
   "metadata": {},
   "outputs": [],
   "source": [
    "vectorstore = FAISS.load_local(\n",
    "    \"faiss_cohere_index\", \n",
    "    embeddings=embed_model,\n",
    "    allow_dangerous_deserialization=True\n",
    ")\n"
   ]
  },
  {
   "cell_type": "code",
   "execution_count": 9,
   "metadata": {},
   "outputs": [],
   "source": [
    "\n",
    "# Retrieve the top 5 relevant chunks\n",
    "retriever = vectorstore.as_retriever(search_kwargs={\"k\": 5})\n"
   ]
  },
  {
   "cell_type": "code",
   "execution_count": 10,
   "metadata": {},
   "outputs": [
    {
     "name": "stdout",
     "output_type": "stream",
     "text": [
      "<think>\n",
      "Okay, so the user asked, \"What is the capital of France?\" Hmm, let me think about how to approach this. First, I know that France is a country in Europe. It's a pretty well-known country, so I should be able to recall its capital. Wait, I've heard Paris mentioned a lot in this context. But maybe I should double-check to make sure I'm not confusing it with another city.\n",
      "\n",
      "I remember that Paris is a major city in France, home to landmarks like the Eiffel Tower and the Louvre Museum. Also, when I think of French government, political activities, that's usually centered in Paris. But just to confirm, does France have any other cities that could be the capital? Maybe Lyon or Marseille? But no, those are just other big cities, not the capital.\n",
      "\n",
      "Another way to verify is to think about historical facts. For instance, during World War II, the capital remained Paris, although the government moved to Vichy for a time. After the war, Paris was restored as the capital. So that's a good indicator. Also, international organizations like UNESCO are based in Paris. That adds to its status as the capital.\n",
      "\n",
      "I could also consider administrative divisions. France has regions and departments, but the capital is specifically Paris. Maybe the user is testing me on a common knowledge question, so providing a direct answer should be sufficient. But maybe adding some extra information could be helpful. For example, mentioning population or key facts about Paris.\n",
      "\n",
      "Wait, but the question is straightforward. They just asked for the capital. However, to be thorough, I should ensure there hasn't been any recent change. As far as I know, there's no recent change in France's capital. It's still Paris. So the answer should be Paris.\n",
      "</think>\n",
      "\n",
      "The capital of France is **Paris**. Known for its cultural landmarks like the Eiffel Tower, Notre-Dame Cathedral, and the Louvre Museum, Paris has been the political and cultural heart of France for centuries. 🇫🇷\n"
     ]
    }
   ],
   "source": [
    "import os\n",
    "from azure.ai.inference import ChatCompletionsClient\n",
    "from azure.ai.inference.models import SystemMessage, UserMessage\n",
    "from azure.core.credentials import AzureKeyCredential\n",
    "\n",
    "endpoint = \"https://models.inference.ai.azure.com\"\n",
    "model_name = \"DeepSeek-R1\"\n",
    "token = os.environ[\"GITHUB_TOKEN\"]\n",
    "\n",
    "client = ChatCompletionsClient(\n",
    "    endpoint=endpoint,\n",
    "    credential=AzureKeyCredential(token),\n",
    ")\n",
    "\n",
    "response = client.complete(\n",
    "    messages=[\n",
    "        SystemMessage(content=\"You are a helpful assistant.\"),\n",
    "        UserMessage(content=\"What is the capital of France?\"),\n",
    "    ],\n",
    "    temperature=1.0,\n",
    "    top_p=1.0,\n",
    "    max_tokens=1000,\n",
    "    model=model_name\n",
    ")\n",
    "\n",
    "print(response.choices[0].message.content)"
   ]
  },
  {
   "cell_type": "code",
   "execution_count": null,
   "metadata": {},
   "outputs": [],
   "source": [
    "from langchain.chains import RetrievalQA\n",
    "from langchain_cohere import ChatCohere\n",
    "from langchain_openai import OpenAI\n",
    "from IPython.display import display, Markdown\n",
    "from langchain_azure_ai.chat_models import AzureAIChatCompletionsModel\n",
    "\n",
    "\n",
    "llm = AzureAIChatCompletionsModel(\n",
    "    endpoint=\"https://models.inference.ai.azure.com\",\n",
    "    credential=os.environ[\"GITHUB_TOKEN\"],\n",
    "    model_name=\"gpt-40\",\n",
    "    api_version=\"2024-05-01-preview\",\n",
    ")\n",
    "client = ChatCompletionsClient(\n",
    "    endpoint=endpoint,\n",
    "    credential=AzureKeyCredential(token),\n",
    ")\n",
    "\n",
    "# Create a QA chain using the retriever\n",
    "qa_chain = RetrievalQA.from_chain_type(llm=llm, retriever=retriever)\n",
    "\n",
    "query = \"Who is the researcher that have the highest h-index in artificial intelligence?\"\n",
    "\n",
    "response = qa_chain.invoke(query)\n",
    "display(Markdown(response[\"query\"]))\n",
    "display(Markdown(response[\"result\"]))"
   ]
  }
 ],
 "metadata": {
  "kernelspec": {
   "display_name": "venv",
   "language": "python",
   "name": "python3"
  },
  "language_info": {
   "codemirror_mode": {
    "name": "ipython",
    "version": 3
   },
   "file_extension": ".py",
   "mimetype": "text/x-python",
   "name": "python",
   "nbconvert_exporter": "python",
   "pygments_lexer": "ipython3",
   "version": "3.11.3"
  }
 },
 "nbformat": 4,
 "nbformat_minor": 2
}
